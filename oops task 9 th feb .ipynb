{
 "cells": [
  {
   "cell_type": "markdown",
   "id": "f1470aa9-ddfa-47ce-8b07-502e89ce843b",
   "metadata": {},
   "source": [
    "Q1, Create a vehicle class with an init method having instance variables as name_of_vehicle, max_speed and average_of_vehicle. "
   ]
  },
  {
   "cell_type": "code",
   "execution_count": 97,
   "id": "dd0efc1c-20f5-4fdc-951a-f73a0cb203d8",
   "metadata": {},
   "outputs": [
    {
     "name": "stdout",
     "output_type": "stream",
     "text": [
      "Audi\n",
      "300\n",
      "50\n",
      "2023\n",
      "5\n",
      "macklaren\n",
      "299\n",
      "60\n",
      "2023\n",
      "2\n"
     ]
    }
   ],
   "source": [
    "class Vehicle ():\n",
    "    def __init__(self,name  ,max_speed ,average_of_Vehicle , year , seating_capacity):\n",
    "        self.name = name\n",
    "        self.max_speed = max_speed\n",
    "        self.average_of_Vehicle = average_of_Vehicle\n",
    "        self.year = year\n",
    "        self.seating_capacity = seating_capacity\n",
    "    \n",
    "    def name(self):\n",
    "        return self.name\n",
    "    def max_speed (self):\n",
    "        return self.max_speed()\n",
    "    def average_of_Vehicle(self):\n",
    "        return self.average_of_Vehicle()\n",
    "    def year(self):\n",
    "        return self.year()\n",
    "    def seating_capacity(self):\n",
    "        return self.seating_capacity()\n",
    "        \n",
    "c1 = Vehicle(\"Audi\" , 300 , 50 , 2023 , 5 )\n",
    "\n",
    "print(c1.name)\n",
    "print(c1.max_speed)\n",
    "print(c1.average_of_Vehicle)\n",
    "print(c1.year)\n",
    "print(c1.seating_capacity)\n",
    "\n",
    "c2 = Vehicle(\"macklaren\", 299 ,60 , 2023 , 2 )\n",
    "print(c2.name)\n",
    "print(c2.max_speed)\n",
    "print(c2.average_of_Vehicle)\n",
    "print(c2.year)\n",
    "print(c2.seating_capacity)\n",
    "#Answer 1 is completed now ."
   ]
  },
  {
   "cell_type": "markdown",
   "id": "4b237329-d40f-494d-8a79-8739a5dbca22",
   "metadata": {},
   "source": [
    "Q2.  Create a child class car from the vehicle class created in Que 1, which will inherit the vehicle class. Create a method named seating_capacity which takes capacity as an argument and returns the name of the vehicle and its seating capacity."
   ]
  },
  {
   "cell_type": "code",
   "execution_count": 98,
   "id": "04975cec-8b60-49e9-8d94-69ddacd7f3c0",
   "metadata": {},
   "outputs": [
    {
     "name": "stdout",
     "output_type": "stream",
     "text": [
      "5\n",
      "2\n"
     ]
    }
   ],
   "source": [
    "class Vehicle :\n",
    "    def __int__(self,name,max_speed,average_of_vehicle,year,seating_capacity):\n",
    "                  pass\n",
    "    def seating_capacity(self):\n",
    "        return f\"The{self.name} has a seating capacity of {seating_capacity} people.\"\n",
    "print(c1.seating_capacity)\n",
    "print(c2.seating_capacity)\n",
    "# Answer 2 is completed now"
   ]
  },
  {
   "cell_type": "markdown",
   "id": "fb970bec-1011-43a8-a051-aa10ef08699a",
   "metadata": {},
   "source": [
    "Q3. What is multiple inheritance? Write a python code to demonstrate multiple inheritance."
   ]
  },
  {
   "cell_type": "markdown",
   "id": "cb3b3cff-b7f0-4b99-aba3-7fe697034640",
   "metadata": {},
   "source": [
    "# Answer_3. \n",
    "When a single  class inharits the  properities and behaviour of two other classes it is called multiple inharitance."
   ]
  },
  {
   "cell_type": "code",
   "execution_count": 99,
   "id": "3e947d55-daf2-407b-a101-decefb94982e",
   "metadata": {},
   "outputs": [],
   "source": [
    "class Dad:\n",
    "    def Dad_strict(self):\n",
    "        return \"strict\"\n",
    "    def Dad_Hard(self):\n",
    "        return \"Hard\" \n",
    "    def Dad_hopefull(self):\n",
    "        return \"hopefull\"\n",
    "    def Dad_Hardworking(self):\n",
    "        return \"Hardworking\"\n",
    "    def Dad_respect(self):\n",
    "        return \"Too much\"\n",
    "#Papa_ji  = Dad(\"self\")"
   ]
  },
  {
   "cell_type": "code",
   "execution_count": 100,
   "id": "dad2a1d5-7e5f-4457-9dc1-237770c19ce3",
   "metadata": {},
   "outputs": [],
   "source": [
    "class Mom:\n",
    "    def Mom_Loving(self):\n",
    "        return \"Loving\"\n",
    "    def Mom_Caring(self):\n",
    "        return \"Caring\"\n",
    "    def Mom_Hardworking(self):\n",
    "        return \"Hardworking\" \n",
    "    def Mom_respect(self):\n",
    "        return \"+++\""
   ]
  },
  {
   "cell_type": "code",
   "execution_count": 101,
   "id": "fcf6ad37-fef9-4b4d-9273-f30032508e61",
   "metadata": {},
   "outputs": [],
   "source": [
    "class Me_and_Bro(Dad , Mom):\n",
    "    pass"
   ]
  },
  {
   "cell_type": "code",
   "execution_count": 102,
   "id": "ed22f288-90e2-4bb4-92aa-e09267bd812c",
   "metadata": {},
   "outputs": [],
   "source": [
    "obj_MB = Me_and_Bro()"
   ]
  },
  {
   "cell_type": "code",
   "execution_count": 103,
   "id": "4fef1e5c-05e0-4a26-8955-06d3ec2dc78b",
   "metadata": {},
   "outputs": [
    {
     "data": {
      "text/plain": [
       "'Loving'"
      ]
     },
     "execution_count": 103,
     "metadata": {},
     "output_type": "execute_result"
    }
   ],
   "source": [
    "obj_MB.Mom_Loving()"
   ]
  },
  {
   "cell_type": "code",
   "execution_count": 104,
   "id": "fb691234-2b06-47a7-94da-295a5b23a425",
   "metadata": {},
   "outputs": [
    {
     "data": {
      "text/plain": [
       "'Too much'"
      ]
     },
     "execution_count": 104,
     "metadata": {},
     "output_type": "execute_result"
    }
   ],
   "source": [
    "obj_MB.Dad_respect()"
   ]
  },
  {
   "cell_type": "markdown",
   "id": "0869b082-6ff6-42b5-98c4-7042ccb5fbcf",
   "metadata": {},
   "source": [
    "Q4. What are getter and setter in python? Create a class and create a getter and a setter method in this class."
   ]
  },
  {
   "cell_type": "markdown",
   "id": "06dc0e85-d703-48d4-a4ca-eb56daf8a349",
   "metadata": {},
   "source": [
    "# Answer_4\n",
    "\n",
    "Setter is used to modify the atribute of an object.\n",
    "Getter is used to access  the attribute of an object. these method return the current\n",
    "value of the attribute."
   ]
  },
  {
   "cell_type": "code",
   "execution_count": 105,
   "id": "28024419-e851-439b-afb4-6f27a9560ce2",
   "metadata": {},
   "outputs": [
    {
     "name": "stdout",
     "output_type": "stream",
     "text": [
      "Audi\n",
      "BMW\n"
     ]
    }
   ],
   "source": [
    "class Vehicle:\n",
    "    def __init__(self,name):\n",
    "        self._name = name\n",
    "        \n",
    "    def get_name(self):\n",
    "        return self._name\n",
    "        \n",
    "    def set_name(self , new_name):\n",
    "        self._name = new_name\n",
    "        \n",
    "# Creating an instance of the Vehicle class    \n",
    "car = Vehicle(\"Audi\")\n",
    "print(car.get_name())\n",
    "\n",
    "car.set_name(\"BMW\")\n",
    "print(car.get_name()) \n",
    "#Answer 4 is completed now."
   ]
  },
  {
   "cell_type": "markdown",
   "id": "dd4a7645-8943-413a-9cf3-13b99db5db81",
   "metadata": {},
   "source": [
    "Q5.What is method overriding in python? Write a python code to demonstrate method overriding."
   ]
  },
  {
   "cell_type": "markdown",
   "id": "5873419a-d978-4b1f-b7fc-e466403159bb",
   "metadata": {},
   "source": [
    "# Answer 5.\n",
    "when A class named parent class  have a method callled welcome_message and\n",
    "we make an other class named child class and write same method called\n",
    "welcome_message . which is already defined in the parent class. it is called method \n",
    "overriding."
   ]
  },
  {
   "cell_type": "code",
   "execution_count": 106,
   "id": "501f04da-6b85-4b8e-a84d-775ed80cc381",
   "metadata": {},
   "outputs": [
    {
     "data": {
      "text/plain": [
       "'Hello this is parent class '"
      ]
     },
     "execution_count": 106,
     "metadata": {},
     "output_type": "execute_result"
    }
   ],
   "source": [
    "class Parent:\n",
    "    def welcome_message(self):\n",
    "        return \"Hello this is parent class \"\n",
    "\n",
    "class Child:\n",
    "    def welcome_message(self):\n",
    "        return \"Hello this is from child class \"\n",
    "Parent = Parent()\n",
    "Parent.welcome_message()\n",
    "# Answer 5 is completed now    "
   ]
  },
  {
   "cell_type": "code",
   "execution_count": 107,
   "id": "439d2722-62f5-4281-ad7d-410e1769c237",
   "metadata": {},
   "outputs": [
    {
     "data": {
      "text/plain": [
       "'Hello this is from child class '"
      ]
     },
     "execution_count": 107,
     "metadata": {},
     "output_type": "execute_result"
    }
   ],
   "source": [
    "Child = Child()\n",
    "Child.welcome_message()\n",
    " "
   ]
  }
 ],
 "metadata": {
  "kernelspec": {
   "display_name": "Python 3 (ipykernel)",
   "language": "python",
   "name": "python3"
  },
  "language_info": {
   "codemirror_mode": {
    "name": "ipython",
    "version": 3
   },
   "file_extension": ".py",
   "mimetype": "text/x-python",
   "name": "python",
   "nbconvert_exporter": "python",
   "pygments_lexer": "ipython3",
   "version": "3.10.8"
  }
 },
 "nbformat": 4,
 "nbformat_minor": 5
}
